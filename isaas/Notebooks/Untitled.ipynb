{
 "cells": [
  {
   "cell_type": "code",
   "execution_count": 1,
   "id": "83ae6a2f",
   "metadata": {},
   "outputs": [],
   "source": [
    "import pandas as pd\n",
    "import numpy as np\n",
    "from sklearn.model_selection import train_test_split\n",
    "from sklearn import metrics\n",
    "from sklearn.preprocessing import LabelEncoder\n",
    "from sklearn.tree import DecisionTreeClassifier"
   ]
  },
  {
   "cell_type": "code",
   "execution_count": 2,
   "id": "e94eb6c3",
   "metadata": {},
   "outputs": [],
   "source": [
    "col_names = ['id','course','grade','targetcourse']\n",
    "dataset = pd.read_csv(\"1styears.csv\", header = None, names=col_names)\n",
    "feat_cols = ['course','grade']\n",
    "X = dataset[feat_cols]\n",
    "y = dataset.targetcourse"
   ]
  },
  {
   "cell_type": "code",
   "execution_count": 3,
   "id": "c7722f69",
   "metadata": {},
   "outputs": [],
   "source": [
    "labelencoder_X = LabelEncoder()\n",
    "X_train, X_test, y_train, y_test = train_test_split(X, y, test_size=0.3, random_state=1)"
   ]
  },
  {
   "cell_type": "code",
   "execution_count": 4,
   "id": "e2391e3e",
   "metadata": {},
   "outputs": [],
   "source": [
    "regressor = DecisionTreeClassifier()\n",
    "regressor = regressor.fit(X_train,y_train)\n",
    "y_pred = regressor.predict(X_test)"
   ]
  },
  {
   "cell_type": "code",
   "execution_count": 5,
   "id": "490a33c2",
   "metadata": {},
   "outputs": [
    {
     "name": "stderr",
     "output_type": "stream",
     "text": [
      "C:\\Users\\JAY R\\AppData\\Local\\Programs\\Python\\Python310\\lib\\site-packages\\sklearn\\base.py:450: UserWarning: X does not have valid feature names, but DecisionTreeClassifier was fitted with feature names\n",
      "  warnings.warn(\n"
     ]
    },
    {
     "data": {
      "text/plain": [
       "array(['gned12'], dtype=object)"
      ]
     },
     "execution_count": 5,
     "metadata": {},
     "output_type": "execute_result"
    }
   ],
   "source": [
    "regressor.predict([[113,2]])"
   ]
  },
  {
   "cell_type": "code",
   "execution_count": 6,
   "id": "dc7ee78c",
   "metadata": {},
   "outputs": [
    {
     "name": "stdout",
     "output_type": "stream",
     "text": [
      "subject #: 111\n",
      "grade: 2\n",
      "subject #: 112\n",
      "grade: 4\n",
      "subject #: 113\n",
      "grade: 1.75\n",
      "subject #: 114\n",
      "grade: 1.25\n",
      "subject #: 115\n",
      "grade: 1\n",
      "subject #: 116\n",
      "grade: 2\n",
      "subject #: 117\n",
      "grade: 3\n"
     ]
    }
   ],
   "source": [
    "arr=[]\n",
    "rows, cols = (7, 2)\n",
    "for i in range(rows):\n",
    "    col = []\n",
    "    for j in range(cols):\n",
    "        if j == 0:\n",
    "            num=float(input(\"subject #: \"))\n",
    "            col.append(num)\n",
    "        else:\n",
    "            num=float(input(\"grade: \"))\n",
    "            col.append(num)\n",
    "            \n",
    "    arr.append(col)"
   ]
  },
  {
   "cell_type": "code",
   "execution_count": 7,
   "id": "c5732bdd",
   "metadata": {},
   "outputs": [
    {
     "name": "stdout",
     "output_type": "stream",
     "text": [
      "[array(['gned01'], dtype=object), array(['incomplete'], dtype=object), array(['gned12'], dtype=object), array(['gned03'], dtype=object), array(['itec50'], dtype=object), array(['dcit23'], dtype=object), array(['fitt2'], dtype=object)]\n"
     ]
    },
    {
     "name": "stderr",
     "output_type": "stream",
     "text": [
      "C:\\Users\\JAY R\\AppData\\Local\\Programs\\Python\\Python310\\lib\\site-packages\\sklearn\\base.py:450: UserWarning: X does not have valid feature names, but DecisionTreeClassifier was fitted with feature names\n",
      "  warnings.warn(\n",
      "C:\\Users\\JAY R\\AppData\\Local\\Programs\\Python\\Python310\\lib\\site-packages\\sklearn\\base.py:450: UserWarning: X does not have valid feature names, but DecisionTreeClassifier was fitted with feature names\n",
      "  warnings.warn(\n",
      "C:\\Users\\JAY R\\AppData\\Local\\Programs\\Python\\Python310\\lib\\site-packages\\sklearn\\base.py:450: UserWarning: X does not have valid feature names, but DecisionTreeClassifier was fitted with feature names\n",
      "  warnings.warn(\n",
      "C:\\Users\\JAY R\\AppData\\Local\\Programs\\Python\\Python310\\lib\\site-packages\\sklearn\\base.py:450: UserWarning: X does not have valid feature names, but DecisionTreeClassifier was fitted with feature names\n",
      "  warnings.warn(\n",
      "C:\\Users\\JAY R\\AppData\\Local\\Programs\\Python\\Python310\\lib\\site-packages\\sklearn\\base.py:450: UserWarning: X does not have valid feature names, but DecisionTreeClassifier was fitted with feature names\n",
      "  warnings.warn(\n",
      "C:\\Users\\JAY R\\AppData\\Local\\Programs\\Python\\Python310\\lib\\site-packages\\sklearn\\base.py:450: UserWarning: X does not have valid feature names, but DecisionTreeClassifier was fitted with feature names\n",
      "  warnings.warn(\n",
      "C:\\Users\\JAY R\\AppData\\Local\\Programs\\Python\\Python310\\lib\\site-packages\\sklearn\\base.py:450: UserWarning: X does not have valid feature names, but DecisionTreeClassifier was fitted with feature names\n",
      "  warnings.warn(\n"
     ]
    }
   ],
   "source": [
    "subj=[]\n",
    "\n",
    "for f in range(rows):\n",
    "    \n",
    "    subj.append(regressor.predict([arr[f]]))\n",
    "    \n",
    "print(subj)"
   ]
  },
  {
   "cell_type": "code",
   "execution_count": 8,
   "id": "c9317f74",
   "metadata": {},
   "outputs": [],
   "source": [
    "from joblib import dump"
   ]
  },
  {
   "cell_type": "code",
   "execution_count": 14,
   "id": "772d0774",
   "metadata": {},
   "outputs": [
    {
     "data": {
      "text/plain": [
       "['./../saveModels/regressor.joblib']"
      ]
     },
     "execution_count": 14,
     "metadata": {},
     "output_type": "execute_result"
    }
   ],
   "source": [
    "dump(regressor, './../saveModels/regressor.joblib')"
   ]
  },
  {
   "cell_type": "code",
   "execution_count": null,
   "id": "a0105959",
   "metadata": {},
   "outputs": [],
   "source": []
  }
 ],
 "metadata": {
  "kernelspec": {
   "display_name": "Python 3 (ipykernel)",
   "language": "python",
   "name": "python3"
  },
  "language_info": {
   "codemirror_mode": {
    "name": "ipython",
    "version": 3
   },
   "file_extension": ".py",
   "mimetype": "text/x-python",
   "name": "python",
   "nbconvert_exporter": "python",
   "pygments_lexer": "ipython3",
   "version": "3.10.4"
  }
 },
 "nbformat": 4,
 "nbformat_minor": 5
}
